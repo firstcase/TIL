{
 "cells": [
  {
   "cell_type": "code",
   "execution_count": 1,
   "metadata": {},
   "outputs": [],
   "source": [
    "import requests"
   ]
  },
  {
   "cell_type": "code",
   "execution_count": 2,
   "metadata": {},
   "outputs": [],
   "source": [
    "# 워치타워 기본API\n",
    "watchtower_api = 'http://api.noti.daumkakao.io'"
   ]
  },
  {
   "cell_type": "code",
   "execution_count": 3,
   "metadata": {},
   "outputs": [],
   "source": [
    "# 와치센터 봇이 개인에게 카카오톡 메시지를 보냅니다\n",
    "def watchtower_kakaotalk_personal(to, msg):\n",
    "    kakaotalk_personal_api = '/send/personal/kakaotalk'\n",
    "    requests.post(watchtower_api + kakaotalk_personal_api, json={'to': to, 'msg': msg})"
   ]
  },
  {
   "cell_type": "code",
   "execution_count": 5,
   "metadata": {},
   "outputs": [],
   "source": [
    "# 와치센터 봇이 와치타워 단톡방에 카카오톡 메시지를 보냅니다\n",
    "def watchtower_kakaotalk_group(to, msg):\n",
    "    kakaotalk_group_api = '/send/group/kakaotalk'\n",
    "    requests.post(watchtower_api + kakaotalk_group_api, json={'to': to, 'msg': msg})"
   ]
  },
  {
   "cell_type": "code",
   "execution_count": 8,
   "metadata": {},
   "outputs": [],
   "source": [
    "# 아지트글 쓰기\n",
    "def agit_writer(webhook, msg):\n",
    "    agit_api = '/send/group/agit'\n",
    "    requests.post(watchtower_api + agit_api, json={'to': webhook, 'msg': msg})"
   ]
  },
  {
   "cell_type": "code",
   "execution_count": 9,
   "metadata": {},
   "outputs": [],
   "source": [
    "watchtower_kakaotalk_personal('lucie.dream', 'hohohohohohoho 이거봐라')"
   ]
  },
  {
   "cell_type": "code",
   "execution_count": null,
   "metadata": {},
   "outputs": [],
   "source": []
  }
 ],
 "metadata": {
  "kernelspec": {
   "display_name": "Python 3",
   "language": "python",
   "name": "python3"
  },
  "language_info": {
   "codemirror_mode": {
    "name": "ipython",
    "version": 3
   },
   "file_extension": ".py",
   "mimetype": "text/x-python",
   "name": "python",
   "nbconvert_exporter": "python",
   "pygments_lexer": "ipython3",
   "version": "3.6.5"
  }
 },
 "nbformat": 4,
 "nbformat_minor": 2
}
